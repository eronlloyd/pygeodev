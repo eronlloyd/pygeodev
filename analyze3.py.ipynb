{
 "cells": [
  {
   "cell_type": "code",
   "execution_count": 1,
   "metadata": {
    "collapsed": true
   },
   "outputs": [],
   "source": [
    "import osgeo.ogr"
   ]
  },
  {
   "cell_type": "code",
   "execution_count": 4,
   "metadata": {},
   "outputs": [
    {
     "name": "stdout",
     "output_type": "stream",
     "text": [
      "MULTIPOLYGON countaining:\n",
      "  POLYGON countaining:\n",
      "    LINEARRING with 121 data points\n",
      "  POLYGON countaining:\n",
      "    LINEARRING with 191 data points\n",
      "  POLYGON countaining:\n",
      "    LINEARRING with 77 data points\n",
      "  POLYGON countaining:\n",
      "    LINEARRING with 152 data points\n",
      "  POLYGON countaining:\n",
      "    LINEARRING with 392 data points\n",
      "  POLYGON countaining:\n",
      "    LINEARRING with 93 data points\n",
      "  POLYGON countaining:\n",
      "    LINEARRING with 10105 data points\n"
     ]
    }
   ],
   "source": [
    "def analyzeGeometry(geometry, indent=0):\n",
    "    s = []\n",
    "    s.append(\"  \" * indent)\n",
    "    s.append(geometry.GetGeometryName())\n",
    "    if geometry.GetPointCount() > 0:\n",
    "        s.append(\" with {0} data points\".format(geometry.GetPointCount()))\n",
    "    if geometry.GetGeometryCount() > 0:\n",
    "        s.append(\" countaining:\")\n",
    "    \n",
    "    print(\"\".join(s))\n",
    "    \n",
    "    for i in range(geometry.GetGeometryCount()):\n",
    "        analyzeGeometry(geometry.GetGeometryRef(i), indent+1)\n",
    "    \n",
    "shapefile = osgeo.ogr.Open(\"tl_2014_us_state.shp\")\n",
    "layer = shapefile.GetLayer(0)\n",
    "feature = layer.GetFeature(13)\n",
    "geometry = feature.GetGeometryRef()\n",
    "\n",
    "analyzeGeometry(geometry)"
   ]
  },
  {
   "cell_type": "code",
   "execution_count": null,
   "metadata": {
    "collapsed": true
   },
   "outputs": [],
   "source": []
  }
 ],
 "metadata": {
  "kernelspec": {
   "display_name": "Python 3",
   "language": "python",
   "name": "python3"
  },
  "language_info": {
   "codemirror_mode": {
    "name": "ipython",
    "version": 3
   },
   "file_extension": ".py",
   "mimetype": "text/x-python",
   "name": "python",
   "nbconvert_exporter": "python",
   "pygments_lexer": "ipython3",
   "version": "3.5.3"
  }
 },
 "nbformat": 4,
 "nbformat_minor": 2
}
