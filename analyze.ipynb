{
 "cells": [
  {
   "cell_type": "code",
   "execution_count": 1,
   "metadata": {},
   "outputs": [],
   "source": [
    "import osgeo"
   ]
  },
  {
   "cell_type": "code",
   "execution_count": 2,
   "metadata": {},
   "outputs": [
    {
     "name": "stdout",
     "output_type": "stream",
     "text": [
      "tl_2014_us_state.dbf  tl_2014_us_state.shp.ea.iso.xml  tl_2014_us_state.shx\r\n",
      "tl_2014_us_state.prj  tl_2014_us_state.shp.iso.xml     tl_2014_us_state.zip\r\n",
      "tl_2014_us_state.shp  tl_2014_us_state.shp.xml\t       Untitled.ipynb\r\n"
     ]
    }
   ],
   "source": [
    "!ls"
   ]
  },
  {
   "cell_type": "code",
   "execution_count": 4,
   "metadata": {},
   "outputs": [
    {
     "name": "stdout",
     "output_type": "stream",
     "text": [
      "Shapefile contains 1 layers\n",
      "\n",
      "Layer 0 has spatial reference +proj=longlat +datum=NAD83 +no_defs \n",
      "Layer 0 has 56 features:\n",
      "\n",
      "Feature 0 has name West Virginia\n",
      "Feature 1 has name Florida\n",
      "Feature 2 has name Illinois\n",
      "Feature 3 has name Minnesota\n",
      "Feature 4 has name Maryland\n",
      "Feature 5 has name Rhode Island\n",
      "Feature 6 has name Idaho\n",
      "Feature 7 has name New Hampshire\n",
      "Feature 8 has name North Carolina\n",
      "Feature 9 has name Vermont\n",
      "Feature 10 has name Connecticut\n",
      "Feature 11 has name Delaware\n",
      "Feature 12 has name New Mexico\n",
      "Feature 13 has name California\n",
      "Feature 14 has name New Jersey\n",
      "Feature 15 has name Wisconsin\n",
      "Feature 16 has name Oregon\n",
      "Feature 17 has name Nebraska\n",
      "Feature 18 has name Pennsylvania\n",
      "Feature 19 has name Washington\n",
      "Feature 20 has name Louisiana\n",
      "Feature 21 has name Georgia\n",
      "Feature 22 has name Alabama\n",
      "Feature 23 has name Utah\n",
      "Feature 24 has name Ohio\n",
      "Feature 25 has name Texas\n",
      "Feature 26 has name Colorado\n",
      "Feature 27 has name South Carolina\n",
      "Feature 28 has name Oklahoma\n",
      "Feature 29 has name Tennessee\n",
      "Feature 30 has name Wyoming\n",
      "Feature 31 has name Hawaii\n",
      "Feature 32 has name North Dakota\n",
      "Feature 33 has name Kentucky\n",
      "Feature 34 has name United States Virgin Islands\n",
      "Feature 35 has name Commonwealth of the Northern Mariana Islands\n",
      "Feature 36 has name Guam\n",
      "Feature 37 has name Maine\n",
      "Feature 38 has name New York\n",
      "Feature 39 has name Nevada\n",
      "Feature 40 has name Alaska\n",
      "Feature 41 has name American Samoa\n",
      "Feature 42 has name Michigan\n",
      "Feature 43 has name Arkansas\n",
      "Feature 44 has name Mississippi\n",
      "Feature 45 has name Missouri\n",
      "Feature 46 has name Montana\n",
      "Feature 47 has name Kansas\n",
      "Feature 48 has name Indiana\n",
      "Feature 49 has name Puerto Rico\n",
      "Feature 50 has name South Dakota\n",
      "Feature 51 has name Massachusetts\n",
      "Feature 52 has name Virginia\n",
      "Feature 53 has name District of Columbia\n",
      "Feature 54 has name Iowa\n",
      "Feature 55 has name Arizona\n"
     ]
    }
   ],
   "source": [
    "import osgeo.ogr\n",
    "\n",
    "shapefile = osgeo.ogr.Open(\"tl_2014_us_state.shp\")\n",
    "numLayers = shapefile.GetLayerCount()\n",
    "\n",
    "print(\"Shapefile contains {0} layers\".format(numLayers))\n",
    "print()\n",
    "\n",
    "for layerNum in range(numLayers):\n",
    "    layer = shapefile.GetLayer(layerNum)\n",
    "    spatialRef = layer.GetSpatialRef().ExportToProj4()\n",
    "    numFeatures = layer.GetFeatureCount()\n",
    "    \n",
    "    print(\"Layer {0} has spatial reference {1}\".format(layerNum, spatialRef))\n",
    "    print(\"Layer {0} has {1} features:\".format(layerNum, numFeatures))\n",
    "    print()\n",
    "    \n",
    "    for featureNum in range(numFeatures):\n",
    "        feature = layer.GetFeature(featureNum)\n",
    "        featureName = feature.GetField(\"NAME\")\n",
    "        \n",
    "        print(\"Feature {0} has name {1}\".format(featureNum, featureName))"
   ]
  },
  {
   "cell_type": "code",
   "execution_count": null,
   "metadata": {
    "collapsed": true
   },
   "outputs": [],
   "source": []
  }
 ],
 "metadata": {
  "kernelspec": {
   "display_name": "Python 3",
   "language": "python",
   "name": "python3"
  },
  "language_info": {
   "codemirror_mode": {
    "name": "ipython",
    "version": 3
   },
   "file_extension": ".py",
   "mimetype": "text/x-python",
   "name": "python",
   "nbconvert_exporter": "python",
   "pygments_lexer": "ipython3",
   "version": "3.5.3"
  }
 },
 "nbformat": 4,
 "nbformat_minor": 2
}
