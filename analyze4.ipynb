{
 "cells": [
  {
   "cell_type": "code",
   "execution_count": 2,
   "metadata": {},
   "outputs": [
    {
     "name": "stdout",
     "output_type": "stream",
     "text": [
      "Northernmost point is (-122.3782, 42.0095)\n",
      "Southernmost point is (-117.2049, 32.5288)\n"
     ]
    }
   ],
   "source": [
    "import osgeo.ogr\n",
    "\n",
    "def findPoints(geometry, results):\n",
    "    for i in range(geometry.GetPointCount()):\n",
    "        x, y, z = geometry.GetPoint(i)\n",
    "        if results['north'] == None or results['north'][1] < y:\n",
    "            results['north'] = (x, y)\n",
    "        if results['south'] == None or results['south'][1] > y:\n",
    "            results['south'] = (x, y)\n",
    "    \n",
    "    for i in range(geometry.GetGeometryCount()):\n",
    "        findPoints(geometry.GetGeometryRef(i), results)\n",
    "\n",
    "shapefile = osgeo.ogr.Open(\"tl_2014_us_state.shp\")\n",
    "layer = shapefile.GetLayer(0)\n",
    "feature = layer.GetFeature(13)\n",
    "geometry = feature.GetGeometryRef()\n",
    "\n",
    "results = {'north': None, 'south': None}\n",
    "\n",
    "findPoints(geometry, results)\n",
    "\n",
    "print(\"Northernmost point is ({:.4f}, {:.4f})\".format(results['north'][0], results['north'][1]))\n",
    "print(\"Southernmost point is ({:.4f}, {:.4f})\".format(results['south'][0], results['south'][1]))"
   ]
  },
  {
   "cell_type": "code",
   "execution_count": 6,
   "metadata": {},
   "outputs": [
    {
     "data": {
      "text/plain": [
       "{'north': (-122.378226, 42.009516999999995), 'south': (-117.204917, 32.528832)}"
      ]
     },
     "execution_count": 6,
     "metadata": {},
     "output_type": "execute_result"
    }
   ],
   "source": [
    "results"
   ]
  },
  {
   "cell_type": "code",
   "execution_count": 8,
   "metadata": {},
   "outputs": [
    {
     "name": "stdout",
     "output_type": "stream",
     "text": [
      "Great Circle distance is 1149 kilometers\n"
     ]
    }
   ],
   "source": [
    "# Haversine formula\n",
    "\n",
    "import math\n",
    "\n",
    "lat1 = results['north'][1]\n",
    "long1 = results['north'][0]\n",
    "\n",
    "lat2 = results['south'][1]\n",
    "long2 = results['south'][0]\n",
    "\n",
    "rLat1 = math.radians(lat1)\n",
    "rLon1 = math.radians(long1)\n",
    "rLat2 = math.radians(lat2)\n",
    "rLon2 = math.radians(long2)\n",
    "\n",
    "dLat = rLat2 - rLat1\n",
    "dLong = rLong2 - rLon1\n",
    "a = math.sin(dLat / 2) ** 2 + math.cos(rLat1) * math.cos(rLat2) * math.sin(dLong / 2) ** 2\n",
    "c = 2 * math.atan2(math.sqrt(a), math.sqrt(1 - a))\n",
    "distance = 6371 * c\n",
    "\n",
    "print(\"Great Circle distance is {:0.0f} kilometers\".format(distance))"
   ]
  },
  {
   "cell_type": "code",
   "execution_count": null,
   "metadata": {
    "collapsed": true
   },
   "outputs": [],
   "source": []
  }
 ],
 "metadata": {
  "kernelspec": {
   "display_name": "Python 3",
   "language": "python",
   "name": "python3"
  },
  "language_info": {
   "codemirror_mode": {
    "name": "ipython",
    "version": 3
   },
   "file_extension": ".py",
   "mimetype": "text/x-python",
   "name": "python",
   "nbconvert_exporter": "python",
   "pygments_lexer": "ipython3",
   "version": "3.5.3"
  }
 },
 "nbformat": 4,
 "nbformat_minor": 2
}
