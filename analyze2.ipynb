{
 "cells": [
  {
   "cell_type": "code",
   "execution_count": 1,
   "metadata": {
    "collapsed": true
   },
   "outputs": [],
   "source": [
    "import osgeo.ogr"
   ]
  },
  {
   "cell_type": "code",
   "execution_count": 4,
   "metadata": {},
   "outputs": [
    {
     "name": "stdout",
     "output_type": "stream",
     "text": [
      "Feature 12 has the following attributes:\n",
      "\n",
      "  REGION = 4\n",
      "  STATENS = 00897535\n",
      "  GEOID = 35\n",
      "  INTPTLAT = +34.4346843\n",
      "  DIVISION = 8\n",
      "  STUSPS = NM\n",
      "  AWATER = 755712514\n",
      "  FUNCSTAT = A\n",
      "  NAME = New Mexico\n",
      "  ALAND = 314161410324\n",
      "  MTFCC = G4000\n",
      "  LSAD = 00\n",
      "  STATEFP = 35\n",
      "  INTPTLON = -106.1316181\n",
      "\n",
      "Feature's geometry data consists of a POLYGON\n"
     ]
    }
   ],
   "source": [
    "shapefile = osgeo.ogr.Open(\"tl_2014_us_state.shp\")\n",
    "layer = shapefile.GetLayer(0)\n",
    "feature = layer.GetFeature(12)\n",
    "\n",
    "print(\"Feature 12 has the following attributes:\")\n",
    "print()\n",
    "\n",
    "attributes = feature.items()\n",
    "\n",
    "for key, value in attributes.items():\n",
    "    print(\"  {0} = {1}\".format(key, value))\n",
    "\n",
    "geometry = feature.GetGeometryRef()\n",
    "geometryName = geometry.GetGeometryName()\n",
    "\n",
    "print()\n",
    "print(\"Feature's geometry data consists of a {0}\".format(geometryName))"
   ]
  },
  {
   "cell_type": "code",
   "execution_count": null,
   "metadata": {
    "collapsed": true
   },
   "outputs": [],
   "source": []
  }
 ],
 "metadata": {
  "kernelspec": {
   "display_name": "Python 3",
   "language": "python",
   "name": "python3"
  },
  "language_info": {
   "codemirror_mode": {
    "name": "ipython",
    "version": 3
   },
   "file_extension": ".py",
   "mimetype": "text/x-python",
   "name": "python",
   "nbconvert_exporter": "python",
   "pygments_lexer": "ipython3",
   "version": "3.5.3"
  }
 },
 "nbformat": 4,
 "nbformat_minor": 2
}
